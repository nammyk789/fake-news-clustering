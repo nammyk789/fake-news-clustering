{
 "cells": [
  {
   "cell_type": "code",
   "execution_count": 1,
   "metadata": {},
   "outputs": [],
   "source": [
    "import pandas as pd\n",
    "import numpy as np\n",
    "from sentence_transformers import SentenceTransformer"
   ]
  },
  {
   "cell_type": "code",
   "execution_count": 2,
   "metadata": {},
   "outputs": [
    {
     "data": {
      "text/html": [
       "<div>\n",
       "<style scoped>\n",
       "    .dataframe tbody tr th:only-of-type {\n",
       "        vertical-align: middle;\n",
       "    }\n",
       "\n",
       "    .dataframe tbody tr th {\n",
       "        vertical-align: top;\n",
       "    }\n",
       "\n",
       "    .dataframe thead th {\n",
       "        text-align: right;\n",
       "    }\n",
       "</style>\n",
       "<table border=\"1\" class=\"dataframe\">\n",
       "  <thead>\n",
       "    <tr style=\"text-align: right;\">\n",
       "      <th></th>\n",
       "      <th>Unnamed: 0</th>\n",
       "      <th>id</th>\n",
       "      <th>news_url</th>\n",
       "      <th>title</th>\n",
       "      <th>tweet_ids</th>\n",
       "      <th>label</th>\n",
       "    </tr>\n",
       "  </thead>\n",
       "  <tbody>\n",
       "    <tr>\n",
       "      <th>0</th>\n",
       "      <td>0</td>\n",
       "      <td>politifact15014</td>\n",
       "      <td>speedtalk.com/forum/viewtopic.php?t=51650</td>\n",
       "      <td>BREAKING: First NFL Team Declares Bankruptcy O...</td>\n",
       "      <td>937349434668498944\\t937379378006282240\\t937380...</td>\n",
       "      <td>0</td>\n",
       "    </tr>\n",
       "    <tr>\n",
       "      <th>1</th>\n",
       "      <td>1</td>\n",
       "      <td>politifact15156</td>\n",
       "      <td>politics2020.info/index.php/2018/03/13/court-o...</td>\n",
       "      <td>Court Orders Obama To Pay $400 Million In Rest...</td>\n",
       "      <td>972666281441878016\\t972678396575559680\\t972827...</td>\n",
       "      <td>0</td>\n",
       "    </tr>\n",
       "    <tr>\n",
       "      <th>2</th>\n",
       "      <td>2</td>\n",
       "      <td>politifact14745</td>\n",
       "      <td>www.nscdscamps.org/blog/category/parenting/467...</td>\n",
       "      <td>UPDATE: Second Roy Moore Accuser Works For Mic...</td>\n",
       "      <td>929405740732870656\\t929439450400264192\\t929439...</td>\n",
       "      <td>0</td>\n",
       "    </tr>\n",
       "    <tr>\n",
       "      <th>3</th>\n",
       "      <td>3</td>\n",
       "      <td>politifact14355</td>\n",
       "      <td>https://howafrica.com/oscar-pistorius-attempts...</td>\n",
       "      <td>Oscar Pistorius Attempts To Commit Suicide</td>\n",
       "      <td>886941526458347521\\t887011300278194176\\t887023...</td>\n",
       "      <td>0</td>\n",
       "    </tr>\n",
       "    <tr>\n",
       "      <th>4</th>\n",
       "      <td>4</td>\n",
       "      <td>politifact15371</td>\n",
       "      <td>http://washingtonsources.org/trump-votes-for-d...</td>\n",
       "      <td>Trump Votes For Death Penalty For Being Gay</td>\n",
       "      <td>915205698212040704\\t915242076681506816\\t915249...</td>\n",
       "      <td>0</td>\n",
       "    </tr>\n",
       "    <tr>\n",
       "      <th>...</th>\n",
       "      <td>...</td>\n",
       "      <td>...</td>\n",
       "      <td>...</td>\n",
       "      <td>...</td>\n",
       "      <td>...</td>\n",
       "      <td>...</td>\n",
       "    </tr>\n",
       "    <tr>\n",
       "      <th>1051</th>\n",
       "      <td>619</td>\n",
       "      <td>politifact14731</td>\n",
       "      <td>https://www.flake.senate.gov/public/index.cfm/...</td>\n",
       "      <td>Flake: âReligious tests should have no place...</td>\n",
       "      <td>NaN</td>\n",
       "      <td>1</td>\n",
       "    </tr>\n",
       "    <tr>\n",
       "      <th>1052</th>\n",
       "      <td>620</td>\n",
       "      <td>politifact329</td>\n",
       "      <td>https://web.archive.org/web/20080131000131/htt...</td>\n",
       "      <td>Change We Can Believe In</td>\n",
       "      <td>634287923135909888\\t946743411100536832\\t946816...</td>\n",
       "      <td>1</td>\n",
       "    </tr>\n",
       "    <tr>\n",
       "      <th>1053</th>\n",
       "      <td>621</td>\n",
       "      <td>politifact1576</td>\n",
       "      <td>http://www.youtube.com/watch?v=4O8CxZ1OD58</td>\n",
       "      <td>deputy director of national health statistics ...</td>\n",
       "      <td>NaN</td>\n",
       "      <td>1</td>\n",
       "    </tr>\n",
       "    <tr>\n",
       "      <th>1054</th>\n",
       "      <td>622</td>\n",
       "      <td>politifact4720</td>\n",
       "      <td>http://www.youtube.com/watch?v=EhyMplwY6HY</td>\n",
       "      <td>Romneys ProLife Conversion Myth or Reality Jun...</td>\n",
       "      <td>188871706637647874</td>\n",
       "      <td>1</td>\n",
       "    </tr>\n",
       "    <tr>\n",
       "      <th>1055</th>\n",
       "      <td>623</td>\n",
       "      <td>politifact52</td>\n",
       "      <td>https://web.archive.org/web/20071102131244/htt...</td>\n",
       "      <td>Interest Group Ratings</td>\n",
       "      <td>1002208963239337984\\t1024651239697666048</td>\n",
       "      <td>1</td>\n",
       "    </tr>\n",
       "  </tbody>\n",
       "</table>\n",
       "<p>1056 rows × 6 columns</p>\n",
       "</div>"
      ],
      "text/plain": [
       "      Unnamed: 0               id  \\\n",
       "0              0  politifact15014   \n",
       "1              1  politifact15156   \n",
       "2              2  politifact14745   \n",
       "3              3  politifact14355   \n",
       "4              4  politifact15371   \n",
       "...          ...              ...   \n",
       "1051         619  politifact14731   \n",
       "1052         620    politifact329   \n",
       "1053         621   politifact1576   \n",
       "1054         622   politifact4720   \n",
       "1055         623     politifact52   \n",
       "\n",
       "                                               news_url  \\\n",
       "0             speedtalk.com/forum/viewtopic.php?t=51650   \n",
       "1     politics2020.info/index.php/2018/03/13/court-o...   \n",
       "2     www.nscdscamps.org/blog/category/parenting/467...   \n",
       "3     https://howafrica.com/oscar-pistorius-attempts...   \n",
       "4     http://washingtonsources.org/trump-votes-for-d...   \n",
       "...                                                 ...   \n",
       "1051  https://www.flake.senate.gov/public/index.cfm/...   \n",
       "1052  https://web.archive.org/web/20080131000131/htt...   \n",
       "1053         http://www.youtube.com/watch?v=4O8CxZ1OD58   \n",
       "1054         http://www.youtube.com/watch?v=EhyMplwY6HY   \n",
       "1055  https://web.archive.org/web/20071102131244/htt...   \n",
       "\n",
       "                                                  title  \\\n",
       "0     BREAKING: First NFL Team Declares Bankruptcy O...   \n",
       "1     Court Orders Obama To Pay $400 Million In Rest...   \n",
       "2     UPDATE: Second Roy Moore Accuser Works For Mic...   \n",
       "3            Oscar Pistorius Attempts To Commit Suicide   \n",
       "4           Trump Votes For Death Penalty For Being Gay   \n",
       "...                                                 ...   \n",
       "1051  Flake: âReligious tests should have no place...   \n",
       "1052                           Change We Can Believe In   \n",
       "1053  deputy director of national health statistics ...   \n",
       "1054  Romneys ProLife Conversion Myth or Reality Jun...   \n",
       "1055                             Interest Group Ratings   \n",
       "\n",
       "                                              tweet_ids  label  \n",
       "0     937349434668498944\\t937379378006282240\\t937380...      0  \n",
       "1     972666281441878016\\t972678396575559680\\t972827...      0  \n",
       "2     929405740732870656\\t929439450400264192\\t929439...      0  \n",
       "3     886941526458347521\\t887011300278194176\\t887023...      0  \n",
       "4     915205698212040704\\t915242076681506816\\t915249...      0  \n",
       "...                                                 ...    ...  \n",
       "1051                                                NaN      1  \n",
       "1052  634287923135909888\\t946743411100536832\\t946816...      1  \n",
       "1053                                                NaN      1  \n",
       "1054                                 188871706637647874      1  \n",
       "1055           1002208963239337984\\t1024651239697666048      1  \n",
       "\n",
       "[1056 rows x 6 columns]"
      ]
     },
     "execution_count": 2,
     "metadata": {},
     "output_type": "execute_result"
    }
   ],
   "source": [
    "politifact = pd.read_csv(\"data/politifact_all.csv\", encoding=\"ISO-8859-1\")\n",
    "politifact"
   ]
  },
  {
   "cell_type": "markdown",
   "metadata": {},
   "source": [
    "Article: https://arxiv.org/abs/1908.10084\n",
    "\n",
    "code: https://github.com/UKPLab/sentence-transformers"
   ]
  },
  {
   "cell_type": "code",
   "execution_count": 3,
   "metadata": {},
   "outputs": [],
   "source": [
    "model = SentenceTransformer('all-MiniLM-L6-v2')"
   ]
  },
  {
   "cell_type": "code",
   "execution_count": 4,
   "metadata": {},
   "outputs": [],
   "source": [
    "headline_statements = list(politifact.title)\n",
    "headline_embeddings = model.encode(headline_statements)"
   ]
  },
  {
   "cell_type": "code",
   "execution_count": 5,
   "metadata": {},
   "outputs": [
    {
     "data": {
      "text/plain": [
       "(1056, 384)"
      ]
     },
     "execution_count": 5,
     "metadata": {},
     "output_type": "execute_result"
    }
   ],
   "source": [
    "headline_embeddings.shape"
   ]
  },
  {
   "cell_type": "code",
   "execution_count": 6,
   "metadata": {},
   "outputs": [
    {
     "data": {
      "text/plain": [
       "(405504,)"
      ]
     },
     "execution_count": 6,
     "metadata": {},
     "output_type": "execute_result"
    }
   ],
   "source": [
    "flat_embeddings = headline_embeddings.flatten()\n",
    "flat_embeddings.shape"
   ]
  },
  {
   "cell_type": "code",
   "execution_count": 7,
   "metadata": {},
   "outputs": [],
   "source": [
    "np.save(\"data/politifact_embeddings\", flat_embeddings)"
   ]
  },
  {
   "cell_type": "code",
   "execution_count": null,
   "metadata": {},
   "outputs": [],
   "source": []
  }
 ],
 "metadata": {
  "kernelspec": {
   "display_name": "Python 3",
   "language": "python",
   "name": "python3"
  },
  "language_info": {
   "codemirror_mode": {
    "name": "ipython",
    "version": 3
   },
   "file_extension": ".py",
   "mimetype": "text/x-python",
   "name": "python",
   "nbconvert_exporter": "python",
   "pygments_lexer": "ipython3",
   "version": "3.8.3"
  }
 },
 "nbformat": 4,
 "nbformat_minor": 4
}
