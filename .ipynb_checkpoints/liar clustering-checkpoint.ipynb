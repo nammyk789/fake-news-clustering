{
 "cells": [
  {
   "cell_type": "markdown",
   "metadata": {},
   "source": [
    "Thoughts:\n",
    "- try with cosine similarity instead of euclidean distance\n",
    "- test out diffusion maps\n",
    "- test out spectral clustering\n",
    "- test out other datasets (Politifact?)\n",
    "- go to OH"
   ]
  },
  {
   "cell_type": "code",
   "execution_count": 14,
   "metadata": {},
   "outputs": [],
   "source": [
    "import numpy as np\n",
    "import pandas as pd\n",
    "from sklearn.cluster import KMeans, SpectralClustering\n",
    "from sklearn import metrics\n",
    "from sklearn.decomposition import PCA\n",
    "import plotly.express as px\n",
    "import diffusion_map"
   ]
  },
  {
   "cell_type": "code",
   "execution_count": 2,
   "metadata": {},
   "outputs": [
    {
     "data": {
      "text/html": [
       "<div>\n",
       "<style scoped>\n",
       "    .dataframe tbody tr th:only-of-type {\n",
       "        vertical-align: middle;\n",
       "    }\n",
       "\n",
       "    .dataframe tbody tr th {\n",
       "        vertical-align: top;\n",
       "    }\n",
       "\n",
       "    .dataframe thead th {\n",
       "        text-align: right;\n",
       "    }\n",
       "</style>\n",
       "<table border=\"1\" class=\"dataframe\">\n",
       "  <thead>\n",
       "    <tr style=\"text-align: right;\">\n",
       "      <th></th>\n",
       "      <th>label</th>\n",
       "      <th>statement</th>\n",
       "      <th>subjects</th>\n",
       "      <th>title</th>\n",
       "      <th>state</th>\n",
       "      <th>affiliation</th>\n",
       "      <th>barely_true</th>\n",
       "      <th>false</th>\n",
       "      <th>half_true</th>\n",
       "      <th>mostly_true</th>\n",
       "      <th>pants_on_fire</th>\n",
       "      <th>context</th>\n",
       "      <th>embedding</th>\n",
       "    </tr>\n",
       "  </thead>\n",
       "  <tbody>\n",
       "    <tr>\n",
       "      <th>0</th>\n",
       "      <td>false</td>\n",
       "      <td>Says the Annies List political group supports ...</td>\n",
       "      <td>abortion</td>\n",
       "      <td>State representative</td>\n",
       "      <td>Texas</td>\n",
       "      <td>republican</td>\n",
       "      <td>0.0</td>\n",
       "      <td>1.0</td>\n",
       "      <td>0.0</td>\n",
       "      <td>0.0</td>\n",
       "      <td>0.0</td>\n",
       "      <td>a mailer</td>\n",
       "      <td>[-2.36570239e-02 -8.62008557e-02 -4.44836281e-...</td>\n",
       "    </tr>\n",
       "    <tr>\n",
       "      <th>1</th>\n",
       "      <td>half-true</td>\n",
       "      <td>When did the decline of coal start? It started...</td>\n",
       "      <td>energy,history,job-accomplishments</td>\n",
       "      <td>State delegate</td>\n",
       "      <td>Virginia</td>\n",
       "      <td>democrat</td>\n",
       "      <td>0.0</td>\n",
       "      <td>0.0</td>\n",
       "      <td>1.0</td>\n",
       "      <td>1.0</td>\n",
       "      <td>0.0</td>\n",
       "      <td>a floor speech.</td>\n",
       "      <td>[ 1.40513331e-02  3.18020508e-02  5.52115180e-...</td>\n",
       "    </tr>\n",
       "    <tr>\n",
       "      <th>2</th>\n",
       "      <td>mostly-true</td>\n",
       "      <td>Hillary Clinton agrees with John McCain \"by vo...</td>\n",
       "      <td>foreign-policy</td>\n",
       "      <td>President</td>\n",
       "      <td>Illinois</td>\n",
       "      <td>democrat</td>\n",
       "      <td>70.0</td>\n",
       "      <td>71.0</td>\n",
       "      <td>160.0</td>\n",
       "      <td>163.0</td>\n",
       "      <td>9.0</td>\n",
       "      <td>Denver</td>\n",
       "      <td>[-1.65689383e-02  1.25167137e-02 -3.50067168e-...</td>\n",
       "    </tr>\n",
       "    <tr>\n",
       "      <th>3</th>\n",
       "      <td>false</td>\n",
       "      <td>Health care reform legislation is likely to ma...</td>\n",
       "      <td>health-care</td>\n",
       "      <td>NaN</td>\n",
       "      <td>NaN</td>\n",
       "      <td>none</td>\n",
       "      <td>7.0</td>\n",
       "      <td>19.0</td>\n",
       "      <td>3.0</td>\n",
       "      <td>5.0</td>\n",
       "      <td>44.0</td>\n",
       "      <td>a news release</td>\n",
       "      <td>[-7.41785616e-02  6.39113188e-02  3.35710347e-...</td>\n",
       "    </tr>\n",
       "    <tr>\n",
       "      <th>4</th>\n",
       "      <td>half-true</td>\n",
       "      <td>The economic turnaround started at the end of ...</td>\n",
       "      <td>economy,jobs</td>\n",
       "      <td>NaN</td>\n",
       "      <td>Florida</td>\n",
       "      <td>democrat</td>\n",
       "      <td>15.0</td>\n",
       "      <td>9.0</td>\n",
       "      <td>20.0</td>\n",
       "      <td>19.0</td>\n",
       "      <td>2.0</td>\n",
       "      <td>an interview on CNN</td>\n",
       "      <td>[ 9.05880891e-03 -9.23928991e-03  5.64881079e-...</td>\n",
       "    </tr>\n",
       "  </tbody>\n",
       "</table>\n",
       "</div>"
      ],
      "text/plain": [
       "         label                                          statement  \\\n",
       "0        false  Says the Annies List political group supports ...   \n",
       "1    half-true  When did the decline of coal start? It started...   \n",
       "2  mostly-true  Hillary Clinton agrees with John McCain \"by vo...   \n",
       "3        false  Health care reform legislation is likely to ma...   \n",
       "4    half-true  The economic turnaround started at the end of ...   \n",
       "\n",
       "                             subjects                 title     state  \\\n",
       "0                            abortion  State representative     Texas   \n",
       "1  energy,history,job-accomplishments        State delegate  Virginia   \n",
       "2                      foreign-policy             President  Illinois   \n",
       "3                         health-care                   NaN       NaN   \n",
       "4                        economy,jobs                   NaN   Florida   \n",
       "\n",
       "  affiliation  barely_true  false  half_true  mostly_true  pants_on_fire  \\\n",
       "0  republican          0.0    1.0        0.0          0.0            0.0   \n",
       "1    democrat          0.0    0.0        1.0          1.0            0.0   \n",
       "2    democrat         70.0   71.0      160.0        163.0            9.0   \n",
       "3        none          7.0   19.0        3.0          5.0           44.0   \n",
       "4    democrat         15.0    9.0       20.0         19.0            2.0   \n",
       "\n",
       "               context                                          embedding  \n",
       "0             a mailer  [-2.36570239e-02 -8.62008557e-02 -4.44836281e-...  \n",
       "1      a floor speech.  [ 1.40513331e-02  3.18020508e-02  5.52115180e-...  \n",
       "2               Denver  [-1.65689383e-02  1.25167137e-02 -3.50067168e-...  \n",
       "3       a news release  [-7.41785616e-02  6.39113188e-02  3.35710347e-...  \n",
       "4  an interview on CNN  [ 9.05880891e-03 -9.23928991e-03  5.64881079e-...  "
      ]
     },
     "execution_count": 2,
     "metadata": {},
     "output_type": "execute_result"
    }
   ],
   "source": [
    "data = pd.read_csv(\"data/liar_all.csv\")\n",
    "data.head()"
   ]
  },
  {
   "cell_type": "code",
   "execution_count": 3,
   "metadata": {},
   "outputs": [
    {
     "data": {
      "text/plain": [
       "(11507, 384)"
      ]
     },
     "execution_count": 3,
     "metadata": {},
     "output_type": "execute_result"
    }
   ],
   "source": [
    "flat_embeddings = np.load(\"data/liar_embeddings.npy\")\n",
    "num_cols = int(flat_embeddings.size / len(data))\n",
    "sentence_embeddings = flat_embeddings.reshape(len(data), int(num_cols))\n",
    "sentence_embeddings.shape"
   ]
  },
  {
   "cell_type": "markdown",
   "metadata": {},
   "source": [
    "# Clustering"
   ]
  },
  {
   "cell_type": "markdown",
   "metadata": {},
   "source": [
    "## Metrics"
   ]
  },
  {
   "cell_type": "code",
   "execution_count": 4,
   "metadata": {},
   "outputs": [],
   "source": [
    "def get_scores(data, labels):\n",
    "    #sillhouette score ranges from -1 to 1, where 1 is best and 0 indicates cluster overlap\n",
    "    ss = metrics.silhouette_score(data, labels, metric='euclidean')\n",
    "    print(\"Sillhouette score:\", ss)\n",
    "    # variance ratio criterion-- how tightly clustered (higher is better)\n",
    "    chs = metrics.calinski_harabasz_score(data, labels)\n",
    "    print(\"Calinski-Harabasz Index:\", chs)\n",
    "    # similarity between clusters (lower is better)\n",
    "    dbs = metrics.davies_bouldin_score(data, labels)   \n",
    "    print(\"Davies-Bouldin Index:\", dbs)\n",
    "    return [ss, chs, dbs]"
   ]
  },
  {
   "cell_type": "markdown",
   "metadata": {},
   "source": [
    "I want to look at what kind of scores I would get if the clusters perfectly grouped the data by truth-level."
   ]
  },
  {
   "cell_type": "code",
   "execution_count": 46,
   "metadata": {},
   "outputs": [],
   "source": [
    "def simple_label(label):\n",
    "    if label in [\"false\", \"barely-true\", \"pants-fire\"]:\n",
    "        return False\n",
    "    else:\n",
    "        return True\n",
    "\n",
    "def label_to_idx(label):\n",
    "    if label == \"pants-fire\":\n",
    "        return 0\n",
    "    elif label == \"false\":\n",
    "        return 1\n",
    "    elif label == \"barely-true\":\n",
    "        return 2\n",
    "    elif label == \"half-true\":\n",
    "        return 3\n",
    "    elif label == \"mostly-true\":\n",
    "        return 4\n",
    "    elif label == \"true\":\n",
    "        return 5"
   ]
  },
  {
   "cell_type": "code",
   "execution_count": 54,
   "metadata": {},
   "outputs": [
    {
     "name": "stdout",
     "output_type": "stream",
     "text": [
      "Sillhouette score: 0.0019048563\n",
      "Calinski-Harabasz Index: 21.620586318039358\n",
      "Davies-Bouldin Index: 22.866642737754894\n"
     ]
    },
    {
     "data": {
      "text/plain": [
       "[0.0019048563, 21.620586318039358, 22.866642737754894]"
      ]
     },
     "execution_count": 54,
     "metadata": {},
     "output_type": "execute_result"
    }
   ],
   "source": [
    "simple_labels = map(simple_label, list(data.label))\n",
    "get_scores(sentence_embeddings, np.array(list(simple_labels)))"
   ]
  },
  {
   "cell_type": "code",
   "execution_count": 55,
   "metadata": {},
   "outputs": [
    {
     "name": "stdout",
     "output_type": "stream",
     "text": [
      "Sillhouette score: -0.004734566\n",
      "Calinski-Harabasz Index: 7.719753509924825\n",
      "Davies-Bouldin Index: 35.501960516475805\n"
     ]
    },
    {
     "data": {
      "text/plain": [
       "[-0.004734566, 7.719753509924825, 35.501960516475805]"
      ]
     },
     "execution_count": 55,
     "metadata": {},
     "output_type": "execute_result"
    }
   ],
   "source": [
    "labels_as_nums = map(label_to_idx, list(data.label))\n",
    "get_scores(sentence_embeddings, np.array(list(labels_as_nums)))"
   ]
  },
  {
   "cell_type": "markdown",
   "metadata": {},
   "source": [
    "### KMeans Clustering"
   ]
  },
  {
   "cell_type": "code",
   "execution_count": 5,
   "metadata": {},
   "outputs": [
    {
     "data": {
      "text/plain": [
       "{'barely-true', 'false', 'half-true', 'mostly-true', 'pants-fire', 'true'}"
      ]
     },
     "execution_count": 5,
     "metadata": {},
     "output_type": "execute_result"
    }
   ],
   "source": [
    "labels = set(data.label)\n",
    "labels"
   ]
  },
  {
   "cell_type": "code",
   "execution_count": 56,
   "metadata": {},
   "outputs": [],
   "source": [
    "clusterer = KMeans(n_clusters=2)\n",
    "sk_labels = clusterer.fit_predict(sentence_embeddings)"
   ]
  },
  {
   "cell_type": "code",
   "execution_count": 57,
   "metadata": {},
   "outputs": [
    {
     "name": "stdout",
     "output_type": "stream",
     "text": [
      "Sillhouette score: 0.02963337\n",
      "Calinski-Harabasz Index: 367.7585495837938\n",
      "Davies-Bouldin Index: 5.560759864821069\n"
     ]
    },
    {
     "data": {
      "text/plain": [
       "[0.02963337, 367.7585495837938, 5.560759864821069]"
      ]
     },
     "execution_count": 57,
     "metadata": {},
     "output_type": "execute_result"
    }
   ],
   "source": [
    "get_scores(sentence_embeddings, sk_labels)"
   ]
  },
  {
   "cell_type": "markdown",
   "metadata": {},
   "source": [
    "### PCA"
   ]
  },
  {
   "cell_type": "code",
   "execution_count": 8,
   "metadata": {},
   "outputs": [],
   "source": [
    "pca = PCA(n_components=1)\n",
    "pca_data = pca.fit_transform(sentence_embeddings)"
   ]
  },
  {
   "cell_type": "code",
   "execution_count": 9,
   "metadata": {},
   "outputs": [],
   "source": [
    "sk_labels = clusterer.fit_predict(pca_data)"
   ]
  },
  {
   "cell_type": "code",
   "execution_count": 10,
   "metadata": {},
   "outputs": [
    {
     "name": "stdout",
     "output_type": "stream",
     "text": [
      "Sillhouette score: 0.532594\n",
      "Calinski-Harabasz Index: 58772.8541872647\n",
      "Davies-Bouldin Index: 0.5230355897233093\n"
     ]
    },
    {
     "data": {
      "text/plain": [
       "[0.532594, 58772.8541872647, 0.5230355897233093]"
      ]
     },
     "execution_count": 10,
     "metadata": {},
     "output_type": "execute_result"
    }
   ],
   "source": [
    "get_scores(pca_data, sk_labels)"
   ]
  },
  {
   "cell_type": "markdown",
   "metadata": {},
   "source": [
    "### Diffusion Map"
   ]
  },
  {
   "cell_type": "code",
   "execution_count": 11,
   "metadata": {},
   "outputs": [],
   "source": [
    "mapper = diffusion_map.DiffusionMap()\n",
    "diff_map = mapper.map(sentence_embeddings)"
   ]
  },
  {
   "cell_type": "code",
   "execution_count": 12,
   "metadata": {},
   "outputs": [],
   "source": [
    "clusterer = KMeans(n_clusters=len(labels))\n",
    "sk_labels = clusterer.fit_predict(diff_map)"
   ]
  },
  {
   "cell_type": "code",
   "execution_count": 13,
   "metadata": {},
   "outputs": [
    {
     "name": "stdout",
     "output_type": "stream",
     "text": [
      "Sillhouette score: 0.12865253259743215\n",
      "Calinski-Harabasz Index: 1060.1953563834677\n",
      "Davies-Bouldin Index: 1.9711557836889835\n"
     ]
    },
    {
     "data": {
      "text/plain": [
       "[0.12865253259743215, 1060.1953563834677, 1.9711557836889835]"
      ]
     },
     "execution_count": 13,
     "metadata": {},
     "output_type": "execute_result"
    }
   ],
   "source": [
    "get_scores(diff_map, sk_labels)"
   ]
  },
  {
   "cell_type": "markdown",
   "metadata": {},
   "source": [
    "### Spectral Clustering"
   ]
  },
  {
   "cell_type": "code",
   "execution_count": 26,
   "metadata": {},
   "outputs": [],
   "source": [
    "clusterer = SpectralClustering()\n",
    "sk_labels = clusterer.fit_predict(sentence_embeddings)"
   ]
  },
  {
   "cell_type": "code",
   "execution_count": 27,
   "metadata": {},
   "outputs": [
    {
     "name": "stdout",
     "output_type": "stream",
     "text": [
      "Sillhouette score: 0.022871412\n",
      "Calinski-Harabasz Index: 174.48618249622183\n",
      "Davies-Bouldin Index: 4.852943222011046\n"
     ]
    },
    {
     "data": {
      "text/plain": [
       "[0.022871412, 174.48618249622183, 4.852943222011046]"
      ]
     },
     "execution_count": 27,
     "metadata": {},
     "output_type": "execute_result"
    }
   ],
   "source": [
    "get_scores(sentence_embeddings, sk_labels)"
   ]
  },
  {
   "cell_type": "markdown",
   "metadata": {},
   "source": [
    "### KMeans using cosine distance"
   ]
  },
  {
   "cell_type": "code",
   "execution_count": 28,
   "metadata": {},
   "outputs": [],
   "source": [
    "import kMeans as cos_kMeans"
   ]
  },
  {
   "cell_type": "code",
   "execution_count": 36,
   "metadata": {},
   "outputs": [
    {
     "name": "stdout",
     "output_type": "stream",
     "text": [
      "Updating. 3729 points changed.\n",
      "Updating. 1763 points changed.\n",
      "Updating. 1084 points changed.\n",
      "Updating. 826 points changed.\n",
      "Updating. 574 points changed.\n",
      "Updating. 393 points changed.\n",
      "Updating. 298 points changed.\n",
      "Updating. 274 points changed.\n",
      "Updating. 251 points changed.\n",
      "Updating. 251 points changed.\n",
      "Updating. 290 points changed.\n",
      "Updating. 286 points changed.\n",
      "Updating. 294 points changed.\n",
      "Updating. 327 points changed.\n",
      "Updating. 269 points changed.\n",
      "Updating. 246 points changed.\n",
      "Updating. 184 points changed.\n",
      "Updating. 150 points changed.\n",
      "Updating. 139 points changed.\n",
      "Updating. 128 points changed.\n",
      "Updating. 140 points changed.\n",
      "Updating. 138 points changed.\n",
      "Updating. 140 points changed.\n",
      "Updating. 161 points changed.\n",
      "Updating. 187 points changed.\n",
      "Updating. 247 points changed.\n",
      "Updating. 264 points changed.\n",
      "Updating. 292 points changed.\n",
      "Updating. 279 points changed.\n",
      "Updating. 267 points changed.\n",
      "Updating. 207 points changed.\n",
      "Updating. 171 points changed.\n",
      "Updating. 144 points changed.\n",
      "Updating. 116 points changed.\n",
      "Updating. 74 points changed.\n",
      "Updating. 53 points changed.\n",
      "Updating. 42 points changed.\n",
      "Updating. 36 points changed.\n",
      "Updating. 29 points changed.\n",
      "Updating. 20 points changed.\n",
      "Updating. 19 points changed.\n",
      "Updating. 7 points changed.\n",
      "Updating. 8 points changed.\n",
      "Updating. 5 points changed.\n",
      "Updating. 4 points changed.\n",
      "Updating. 3 points changed.\n",
      "Updating. 5 points changed.\n",
      "Updating. 7 points changed.\n",
      "Updating. 7 points changed.\n",
      "Updating. 5 points changed.\n",
      "Updating. 5 points changed.\n",
      "Updating. 13 points changed.\n",
      "Updating. 17 points changed.\n",
      "Updating. 10 points changed.\n",
      "Updating. 12 points changed.\n",
      "Updating. 16 points changed.\n",
      "Updating. 11 points changed.\n",
      "Updating. 11 points changed.\n",
      "Updating. 11 points changed.\n",
      "Updating. 9 points changed.\n",
      "Updating. 7 points changed.\n",
      "Updating. 8 points changed.\n",
      "Updating. 8 points changed.\n",
      "Updating. 12 points changed.\n",
      "Updating. 12 points changed.\n",
      "Updating. 10 points changed.\n",
      "Updating. 7 points changed.\n",
      "Updating. 11 points changed.\n",
      "Updating. 8 points changed.\n",
      "Updating. 8 points changed.\n",
      "Updating. 8 points changed.\n",
      "Updating. 6 points changed.\n",
      "Updating. 4 points changed.\n",
      "Updating. 2 points changed.\n",
      "Updating. 2 points changed.\n",
      "Updating. 2 points changed.\n",
      "Updating. 2 points changed.\n"
     ]
    }
   ],
   "source": [
    "# get data labels\n",
    "labels = np.array(data.label)\n",
    "\n",
    "# run kMeans\n",
    "model = cos_kMeans.kMeans(k=6)\n",
    "model.train(sentence_embeddings, labels)"
   ]
  },
  {
   "cell_type": "code",
   "execution_count": 37,
   "metadata": {},
   "outputs": [
    {
     "data": {
      "text/plain": [
       "0.5901663617537287"
      ]
     },
     "execution_count": 37,
     "metadata": {},
     "output_type": "execute_result"
    }
   ],
   "source": [
    "model.rand_score()"
   ]
  },
  {
   "cell_type": "code",
   "execution_count": 38,
   "metadata": {},
   "outputs": [
    {
     "data": {
      "text/plain": [
       "[1744, 2373, 1610, 1379, 1801, 2600]"
      ]
     },
     "execution_count": 38,
     "metadata": {},
     "output_type": "execute_result"
    }
   ],
   "source": [
    "model.cluster_counts()"
   ]
  },
  {
   "cell_type": "code",
   "execution_count": 40,
   "metadata": {},
   "outputs": [
    {
     "name": "stdout",
     "output_type": "stream",
     "text": [
      "['m', 'f', 'f', 'f', 'm', 'h']\n"
     ]
    }
   ],
   "source": [
    "model.get_cluster_labels()"
   ]
  },
  {
   "cell_type": "code",
   "execution_count": 41,
   "metadata": {},
   "outputs": [],
   "source": [
    "# write function to get labels of entire data"
   ]
  },
  {
   "cell_type": "code",
   "execution_count": null,
   "metadata": {},
   "outputs": [],
   "source": []
  }
 ],
 "metadata": {
  "kernelspec": {
   "display_name": "Python 3",
   "language": "python",
   "name": "python3"
  },
  "language_info": {
   "codemirror_mode": {
    "name": "ipython",
    "version": 3
   },
   "file_extension": ".py",
   "mimetype": "text/x-python",
   "name": "python",
   "nbconvert_exporter": "python",
   "pygments_lexer": "ipython3",
   "version": "3.8.3"
  }
 },
 "nbformat": 4,
 "nbformat_minor": 4
}
